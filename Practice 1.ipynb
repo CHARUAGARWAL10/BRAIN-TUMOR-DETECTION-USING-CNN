{
 "cells": [
  {
   "cell_type": "code",
   "execution_count": 1,
   "id": "b3e1b622",
   "metadata": {},
   "outputs": [],
   "source": [
    "import os\n",
    "import keras \n",
    "from keras.models import Sequential\n",
    "from keras.layers import Conv2D, MaxPooling2D, Flatten, Dense, Dropout, BatchNormalization\n",
    "from PIL import Image\n",
    "import numpy as np\n",
    "import pandas as pd\n",
    "import matplotlib.pyplot as plt\n",
    "plt.style.use('dark_background')\n",
    "from sklearn.model_selection import train_test_split\n",
    "from sklearn.preprocessing import OneHotEncoder"
   ]
  },
  {
   "cell_type": "code",
   "execution_count": 2,
   "id": "81a05690",
   "metadata": {},
   "outputs": [
    {
     "data": {
      "text/plain": [
       "OneHotEncoder()"
      ]
     },
     "execution_count": 2,
     "metadata": {},
     "output_type": "execute_result"
    }
   ],
   "source": [
    "encoder = OneHotEncoder()\n",
    "encoder.fit([[0],[1]])\n",
    "encoder"
   ]
  },
  {
   "cell_type": "code",
   "execution_count": 3,
   "id": "ebed7d55",
   "metadata": {},
   "outputs": [],
   "source": [
    "data = []\n",
    "paths = []\n",
    "result = []\n",
    "for r, d, f in os.walk(r'./data/brain_tumor_dataset/yes'):\n",
    "    for file in f:\n",
    "        if '.jpg' in file:\n",
    "            paths.append(os.path.join(r, file))\n",
    "for path in paths:\n",
    "    img = Image.open(path)\n",
    "    img = img.resize((128,128))\n",
    "    img = np.array(img)\n",
    "    if(img.shape == (128,128,3)):\n",
    "        data.append(np.array(img))\n",
    "        result.append(encoder.transform([[0]]).toarray())"
   ]
  },
  {
   "cell_type": "code",
   "execution_count": 4,
   "id": "91ad2310",
   "metadata": {},
   "outputs": [],
   "source": [
    "paths = []\n",
    "for r, d, f in os.walk(r\"./data/brain_tumor_dataset/no\"):\n",
    "    for file in f:\n",
    "        if '.jpg' in file:\n",
    "            paths.append(os.path.join(r, file))\n",
    "\n",
    "for path in paths:\n",
    "    img = Image.open(path)\n",
    "    img = img.resize((128,128))\n",
    "    img = np.array(img)\n",
    "    if(img.shape == (128,128,3)):\n",
    "        data.append(np.array(img))\n",
    "        result.append(encoder.transform([[1]]).toarray())"
   ]
  },
  {
   "cell_type": "code",
   "execution_count": 5,
   "id": "d775d40e",
   "metadata": {},
   "outputs": [
    {
     "data": {
      "text/plain": [
       "(139, 128, 128, 3)"
      ]
     },
     "execution_count": 5,
     "metadata": {},
     "output_type": "execute_result"
    }
   ],
   "source": [
    "data = np.array(data)\n",
    "data.shape"
   ]
  },
  {
   "cell_type": "code",
   "execution_count": 6,
   "id": "df5be18f",
   "metadata": {},
   "outputs": [],
   "source": [
    "result = np.array(result)\n",
    "result = result.reshape(139,2)"
   ]
  },
  {
   "cell_type": "code",
   "execution_count": 7,
   "id": "8a39da35",
   "metadata": {},
   "outputs": [],
   "source": [
    "x_train,x_test,y_train,y_test = train_test_split(data, result, test_size=0.2, shuffle=True, random_state=0)"
   ]
  },
  {
   "cell_type": "code",
   "execution_count": 8,
   "id": "6a59d041",
   "metadata": {},
   "outputs": [
    {
     "name": "stdout",
     "output_type": "stream",
     "text": [
      "Model: \"sequential\"\n",
      "_________________________________________________________________\n",
      "Layer (type)                 Output Shape              Param #   \n",
      "=================================================================\n",
      "conv2d (Conv2D)              (None, 128, 128, 32)      416       \n",
      "_________________________________________________________________\n",
      "conv2d_1 (Conv2D)            (None, 128, 128, 32)      4128      \n",
      "_________________________________________________________________\n",
      "batch_normalization (BatchNo (None, 128, 128, 32)      128       \n",
      "_________________________________________________________________\n",
      "max_pooling2d (MaxPooling2D) (None, 64, 64, 32)        0         \n",
      "_________________________________________________________________\n",
      "dropout (Dropout)            (None, 64, 64, 32)        0         \n",
      "_________________________________________________________________\n",
      "conv2d_2 (Conv2D)            (None, 64, 64, 64)        8256      \n",
      "_________________________________________________________________\n",
      "conv2d_3 (Conv2D)            (None, 64, 64, 64)        16448     \n",
      "_________________________________________________________________\n",
      "batch_normalization_1 (Batch (None, 64, 64, 64)        256       \n",
      "_________________________________________________________________\n",
      "max_pooling2d_1 (MaxPooling2 (None, 32, 32, 64)        0         \n",
      "_________________________________________________________________\n",
      "dropout_1 (Dropout)          (None, 32, 32, 64)        0         \n",
      "_________________________________________________________________\n",
      "flatten (Flatten)            (None, 65536)             0         \n",
      "_________________________________________________________________\n",
      "dense (Dense)                (None, 512)               33554944  \n",
      "_________________________________________________________________\n",
      "dropout_2 (Dropout)          (None, 512)               0         \n",
      "_________________________________________________________________\n",
      "dense_1 (Dense)              (None, 2)                 1026      \n",
      "=================================================================\n",
      "Total params: 33,585,602\n",
      "Trainable params: 33,585,410\n",
      "Non-trainable params: 192\n",
      "_________________________________________________________________\n",
      "None\n"
     ]
    }
   ],
   "source": [
    "model = Sequential()\n",
    "\n",
    "model.add(Conv2D(32, kernel_size=(2, 2), input_shape=(128, 128, 3), padding = 'Same'))\n",
    "model.add(Conv2D(32, kernel_size=(2, 2),  activation ='relu', padding = 'Same'))\n",
    "\n",
    "\n",
    "model.add(BatchNormalization())\n",
    "model.add(MaxPooling2D(pool_size=(2, 2)))\n",
    "model.add(Dropout(0.25))\n",
    "\n",
    "model.add(Conv2D(64, kernel_size = (2,2), activation ='relu', padding = 'Same'))\n",
    "model.add(Conv2D(64, kernel_size = (2,2), activation ='relu', padding = 'Same'))\n",
    "\n",
    "model.add(BatchNormalization())\n",
    "model.add(MaxPooling2D(pool_size=(2,2), strides=(2,2)))\n",
    "model.add(Dropout(0.25))\n",
    "\n",
    "model.add(Flatten())\n",
    "\n",
    "model.add(Dense(512, activation='relu'))\n",
    "model.add(Dropout(0.5))\n",
    "model.add(Dense(2, activation='softmax'))\n",
    "model.compile(loss = \"categorical_crossentropy\", optimizer='Adamax')\n",
    "print(model.summary())"
   ]
  },
  {
   "cell_type": "code",
   "execution_count": 9,
   "id": "7c0c5957",
   "metadata": {},
   "outputs": [
    {
     "data": {
      "text/plain": [
       "(111, 2)"
      ]
     },
     "execution_count": 9,
     "metadata": {},
     "output_type": "execute_result"
    }
   ],
   "source": [
    "y_train.shape"
   ]
  },
  {
   "cell_type": "code",
   "execution_count": 10,
   "id": "dc3d1ad8",
   "metadata": {},
   "outputs": [
    {
     "data": {
      "text/plain": [
       "(111, 128, 128, 3)"
      ]
     },
     "execution_count": 10,
     "metadata": {},
     "output_type": "execute_result"
    }
   ],
   "source": [
    "x_train.shape"
   ]
  },
  {
   "cell_type": "code",
   "execution_count": 11,
   "id": "7d526fb0",
   "metadata": {},
   "outputs": [
    {
     "name": "stdout",
     "output_type": "stream",
     "text": [
      "Epoch 1/30\n",
      "3/3 [==============================] - 8s 2s/step - loss: 75.9691 - val_loss: 164.6370\n",
      "Epoch 2/30\n",
      "3/3 [==============================] - 4s 1s/step - loss: 29.5433 - val_loss: 84.6993\n",
      "Epoch 3/30\n",
      "3/3 [==============================] - 4s 1s/step - loss: 15.2711 - val_loss: 10.8172\n",
      "Epoch 4/30\n",
      "3/3 [==============================] - 4s 1s/step - loss: 5.5446 - val_loss: 28.8995\n",
      "Epoch 5/30\n",
      "3/3 [==============================] - 4s 1s/step - loss: 4.2017 - val_loss: 26.7771\n",
      "Epoch 6/30\n",
      "3/3 [==============================] - 4s 1s/step - loss: 1.8947 - val_loss: 10.8943\n",
      "Epoch 7/30\n",
      "3/3 [==============================] - 4s 1s/step - loss: 0.9968 - val_loss: 4.9408\n",
      "Epoch 8/30\n",
      "3/3 [==============================] - 4s 1s/step - loss: 1.9369 - val_loss: 7.0099\n",
      "Epoch 9/30\n",
      "3/3 [==============================] - 4s 1s/step - loss: 0.3568 - val_loss: 11.8634\n",
      "Epoch 10/30\n",
      "3/3 [==============================] - 4s 1s/step - loss: 0.3583 - val_loss: 14.3823\n",
      "Epoch 11/30\n",
      "3/3 [==============================] - 4s 1s/step - loss: 0.2968 - val_loss: 14.3681\n",
      "Epoch 12/30\n",
      "3/3 [==============================] - 4s 1s/step - loss: 0.2796 - val_loss: 13.2209\n",
      "Epoch 13/30\n",
      "3/3 [==============================] - 4s 1s/step - loss: 0.2035 - val_loss: 11.3462\n",
      "Epoch 14/30\n",
      "3/3 [==============================] - 4s 1s/step - loss: 0.2110 - val_loss: 9.5149\n",
      "Epoch 15/30\n",
      "3/3 [==============================] - 5s 2s/step - loss: 0.1138 - val_loss: 8.1551\n",
      "Epoch 16/30\n",
      "3/3 [==============================] - 4s 1s/step - loss: 0.0702 - val_loss: 7.2177\n",
      "Epoch 17/30\n",
      "3/3 [==============================] - 4s 1s/step - loss: 0.0553 - val_loss: 6.4790\n",
      "Epoch 18/30\n",
      "3/3 [==============================] - 5s 2s/step - loss: 0.0366 - val_loss: 5.9646\n",
      "Epoch 19/30\n",
      "3/3 [==============================] - 4s 1s/step - loss: 0.0505 - val_loss: 5.5285\n",
      "Epoch 20/30\n",
      "3/3 [==============================] - 4s 1s/step - loss: 0.0392 - val_loss: 5.1708\n",
      "Epoch 21/30\n",
      "3/3 [==============================] - 4s 1s/step - loss: 0.0245 - val_loss: 4.8706\n",
      "Epoch 22/30\n",
      "3/3 [==============================] - 4s 1s/step - loss: 0.0429 - val_loss: 4.6395\n",
      "Epoch 23/30\n",
      "3/3 [==============================] - 4s 1s/step - loss: 0.0229 - val_loss: 4.4749\n",
      "Epoch 24/30\n",
      "3/3 [==============================] - 4s 2s/step - loss: 0.0265 - val_loss: 4.3153\n",
      "Epoch 25/30\n",
      "3/3 [==============================] - 4s 1s/step - loss: 0.0106 - val_loss: 4.1762\n",
      "Epoch 26/30\n",
      "3/3 [==============================] - 4s 1s/step - loss: 0.0698 - val_loss: 4.0625\n",
      "Epoch 27/30\n",
      "3/3 [==============================] - 4s 1s/step - loss: 0.0223 - val_loss: 3.9393\n",
      "Epoch 28/30\n",
      "3/3 [==============================] - 4s 1s/step - loss: 0.0173 - val_loss: 3.8283\n",
      "Epoch 29/30\n",
      "3/3 [==============================] - 4s 1s/step - loss: 0.0256 - val_loss: 3.7262\n",
      "Epoch 30/30\n",
      "3/3 [==============================] - 4s 1s/step - loss: 0.0247 - val_loss: 3.6327\n"
     ]
    }
   ],
   "source": [
    "history = model.fit(x_train, y_train, epochs = 30, batch_size = 40, verbose = 1,validation_data = (x_test, y_test))"
   ]
  },
  {
   "cell_type": "code",
   "execution_count": 12,
   "id": "fb63e1a1",
   "metadata": {},
   "outputs": [
    {
     "data": {
      "image/png": "[encoded data removed]",
      "text/plain": [
       "<Figure size 432x288 with 1 Axes>"
      ]
     },
     "metadata": {},
     "output_type": "display_data"
    }
   ],
   "source": [
    "plt.plot(history.history['loss'])\n",
    "plt.plot(history.history['val_loss'])\n",
    "plt.title('Model Loss')\n",
    "plt.ylabel('Loss')\n",
    "plt.xlabel('Epoch')\n",
    "plt.legend(['Test', 'Validation'], loc='upper right')\n",
    "plt.show()"
   ]
  },
  {
   "cell_type": "code",
   "execution_count": 13,
   "id": "d20536df",
   "metadata": {},
   "outputs": [],
   "source": [
    "import cv2"
   ]
  },
  {
   "cell_type": "code",
   "execution_count": null,
   "id": "b1f21942",
   "metadata": {},
   "outputs": [],
   "source": []
  },
  {
   "cell_type": "code",
   "execution_count": null,
   "id": "a0716c8c",
   "metadata": {},
   "outputs": [],
   "source": []
  }
 ],
 "metadata": {
  "kernelspec": {
   "display_name": "Python 3 (ipykernel)",
   "language": "python",
   "name": "python3"
  },
  "language_info": {
   "codemirror_mode": {
    "name": "ipython",
    "version": 3
   },
   "file_extension": ".py",
   "mimetype": "text/x-python",
   "name": "python",
   "nbconvert_exporter": "python",
   "pygments_lexer": "ipython3",
   "version": "3.9.6"
  }
 },
 "nbformat": 4,
 "nbformat_minor": 5
}
